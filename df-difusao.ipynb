{
 "cells": [
  {
   "cell_type": "markdown",
   "metadata": {},
   "source": [
    "# Método das diferenças finitas: Difusão"
   ]
  },
  {
   "cell_type": "markdown",
   "metadata": {},
   "source": [
    "Vamos resolver a equação de difusão 1D:\n",
    "\n",
    "$$\\frac{\\partial T}{\\partial t} = \\alpha \\frac{\\partial^2 T}{\\partial x^2}$$\n",
    "\n",
    "em que $T$ é a temperatura e $\\alpha$ é uma constante chamada de [difusividade térmica](https://pt.wikipedia.org/wiki/Difusividade_t%C3%A9rmica)."
   ]
  },
  {
   "cell_type": "markdown",
   "metadata": {},
   "source": [
    "## Setup"
   ]
  },
  {
   "cell_type": "code",
   "execution_count": 1,
   "metadata": {
    "collapsed": true
   },
   "outputs": [],
   "source": [
    "%matplotlib inline\n",
    "import numpy as np\n",
    "import matplotlib.pyplot as plt"
   ]
  },
  {
   "cell_type": "markdown",
   "metadata": {},
   "source": [
    "As células abaixo definem funções que criam o domínio e as condições iniciais."
   ]
  },
  {
   "cell_type": "code",
   "execution_count": 2,
   "metadata": {
    "collapsed": false
   },
   "outputs": [],
   "source": [
    "def cria_dominios(tamanho, Nx, duração, Nt):\n",
    "    \"\"\"\n",
    "    Cria o domínio espacial e calcula os intervalos de tempo e espaço.\n",
    "    \n",
    "    Retorna os valores de x, dx e dt\n",
    "    \"\"\"\n",
    "    x = np.linspace(0, tamanho, Nx)\n",
    "    dx = x[1] - x[0]\n",
    "    dt = duração/(Nt - 1)\n",
    "    return x, dx, dt"
   ]
  },
  {
   "cell_type": "code",
   "execution_count": 3,
   "metadata": {
    "collapsed": false
   },
   "outputs": [
    {
     "name": "stdout",
     "output_type": "stream",
     "text": [
      "dx = 0.02 dt = 0.05\n"
     ]
    }
   ],
   "source": [
    "x, dx, dt = cria_dominios(tamanho=1, Nx=51, duração=1, Nt=21)\n",
    "print('dx =', dx, 'dt =', dt)"
   ]
  },
  {
   "cell_type": "code",
   "execution_count": 4,
   "metadata": {
    "collapsed": true
   },
   "outputs": [],
   "source": [
    "def cria_cond_inicial(x):\n",
    "    \"\"\"\n",
    "    Cria um vetor de condições iniciais u0 com uma função degrau.\n",
    "    \"\"\"\n",
    "    T = np.zeros(x.size)\n",
    "    T[(x >= 0.3) & (x <= 0.7)] = 100\n",
    "    return T"
   ]
  },
  {
   "cell_type": "code",
   "execution_count": 5,
   "metadata": {
    "collapsed": false
   },
   "outputs": [
    {
     "data": {
      "text/plain": [
       "(0, 150)"
      ]
     },
     "execution_count": 5,
     "metadata": {},
     "output_type": "execute_result"
    },
    {
     "data": {
      "image/png": "[encoded data removed]",
      "text/plain": [
       "<matplotlib.figure.Figure at 0x7feff4606a20>"
      ]
     },
     "metadata": {},
     "output_type": "display_data"
    }
   ],
   "source": [
    "cond_inicial = cria_cond_inicial(x)\n",
    "\n",
    "plt.figure()\n",
    "plt.plot(x, cond_inicial, '-k')\n",
    "plt.xlabel('x (m)')\n",
    "plt.ylabel('T (C)')\n",
    "plt.title('Condição inicial $T^0$')\n",
    "plt.ylim(0, 150)"
   ]
  },
  {
   "cell_type": "markdown",
   "metadata": {},
   "source": [
    "## Tarefa 1\n",
    "\n",
    "Complete a função abaixo que executa 1 único passo no tempo utilizando diferenças progressivas no tempo."
   ]
  },
  {
   "cell_type": "code",
   "execution_count": 12,
   "metadata": {
    "collapsed": false
   },
   "outputs": [],
   "source": [
    "def passo_no_tempo(T_passado, dx, dt, difusividade):\n",
    "    \"\"\"\n",
    "    Executa 1 passo no tempo da equação de difusão.\n",
    "    \n",
    "    Dada a temperatura em uma iteração passada T_passado, \n",
    "    utiliza o método das diferenças finitas \n",
    "    para calcular a temperatura após um único passo no tempo\n",
    "    T_futuro.\n",
    "    \n",
    "    OBS: Não inclui condições de contorno.\n",
    "    \"\"\"\n",
    "    T_futuro = T_passado.copy()\n",
    "    Nx = len(T_passado)\n",
    "    for k in range(Nx-1):\n",
    "        T_futuro[k] = T_passado[k] + difusividade * (dt/dx**2) *(T_passado[k+1] - (2 * T_passado[k]) + T_passado[k-1]) \n",
    "    return T_futuro"
   ]
  },
  {
   "cell_type": "markdown",
   "metadata": {},
   "source": [
    "Use as células abaixo para checar se sua função funciona. Vamos tentar dar um único passo no tempo a partir de uma condição inicial."
   ]
  },
  {
   "cell_type": "code",
   "execution_count": 13,
   "metadata": {
    "collapsed": false
   },
   "outputs": [],
   "source": [
    "x, dx, dt = cria_dominios(tamanho=1, Nx=51, duração=1, Nt=20)\n",
    "T0 = cria_cond_inicial(x)\n",
    "T1 = passo_no_tempo(T0, dx, dt, difusividade=0.001)"
   ]
  },
  {
   "cell_type": "code",
   "execution_count": 14,
   "metadata": {
    "collapsed": false
   },
   "outputs": [
    {
     "data": {
      "text/plain": [
       "(0, 150)"
      ]
     },
     "execution_count": 14,
     "metadata": {},
     "output_type": "execute_result"
    },
    {
     "data": {
      "image/png": "[encoded data removed]",
      "text/plain": [
       "<matplotlib.figure.Figure at 0x7fefcf13ea90>"
      ]
     },
     "metadata": {},
     "output_type": "display_data"
    }
   ],
   "source": [
    "plt.figure()\n",
    "plt.plot(x, T0, '--r')\n",
    "plt.plot(x, T1, '.-k')\n",
    "plt.xlabel('x')\n",
    "plt.ylabel('T')\n",
    "plt.ylim(0, 150)"
   ]
  },
  {
   "cell_type": "markdown",
   "metadata": {},
   "source": [
    "## Tarefa 2\n",
    "\n",
    "Complete a função abaixo que impõe condições de contorno na nossa solução. As condições serão:\n",
    "\n",
    "* Em x=0, o material é mantido a uma temperatura constante $T(x=0, t) = 0° C$\n",
    "* Em x=1 (no final do domínio), o material é isolado térmicamente. Isso quer dizer que não há variação espacial de temperatura em x=1, ou seja, $\\frac{\\partial T}{\\partial x}(x=1, t) = 0$"
   ]
  },
  {
   "cell_type": "code",
   "execution_count": 17,
   "metadata": {
    "collapsed": true
   },
   "outputs": [],
   "source": [
    "def cond_contorno(T):\n",
    "    \"\"\"\n",
    "    Impõe condições de contorno na distribuição de temperaturas T.\n",
    "    \n",
    "    Em x = 0, a temperatura é constante e igual a 0°C.\n",
    "    Em x = 1, a derivada espacial da temperatura é 0.\n",
    "    \n",
    "    Essa função muda os valores da variável T e a retorna.\n",
    "    \"\"\"\n",
    "    T[0] = 0\n",
    "    T[-1] = T[-2]\n",
    "    return T"
   ]
  },
  {
   "cell_type": "markdown",
   "metadata": {},
   "source": [
    "Vamos testar a função aplicando-a a um numpy.array qualquer que vamos criar. Nas posições 0 e -1, vamos colocar valores absurdos e ver se a nossa função `cond_contorno` insere os valores adequados."
   ]
  },
  {
   "cell_type": "code",
   "execution_count": 18,
   "metadata": {
    "collapsed": false
   },
   "outputs": [
    {
     "name": "stdout",
     "output_type": "stream",
     "text": [
      "[0 1 2 3 4 5 6 6]\n"
     ]
    }
   ],
   "source": [
    "T_teste = np.array([1000000, 1, 2, 3, 4, 5, 6, -1000000])\n",
    "T_teste = cond_contorno(T_teste)\n",
    "print(T_teste)"
   ]
  },
  {
   "cell_type": "markdown",
   "metadata": {},
   "source": [
    "## Tarefa 3\n",
    "\n",
    "Complete a função abaixo que executa uma simulação completa de diferenças finitas (utilizando as funções definidas acima) para uma deterimada duração. A função deve retornar uma lista com a temperatura para cada iteração do método."
   ]
  },
  {
   "cell_type": "code",
   "execution_count": null,
   "metadata": {
    "collapsed": true
   },
   "outputs": [],
   "source": [
    "def simula(tamanho, Nx, duração, Nt, difusividade):\n",
    "    \"\"\"\n",
    "    Executa uma simulação completa da equação de difusão \n",
    "    utilizando diferenças finitas.\n",
    "    \n",
    "    1. Cria o domínio e a condição inicial\n",
    "    2. Executa Nt passos no tempo\n",
    "    3. Retorna o domínio (x) e uma lista com o resultado\n",
    "       de cada passo no tempo (T).\n",
    "    \n",
    "    Para cada passo no tempo, impõe as condições de contorno:\n",
    "    Em x = 0, a temperatura é constante e igual a 0°C.\n",
    "    Em x = 1, a derivada espacial da temperatura é 0.\n",
    "    \n",
    "    \"\"\"\n",
    "    \n",
    "    T_inicial = \n",
    "    T = [T_inicial]\n",
    "    T_passado = T_inicial\n",
    "    for  in range(  ):\n",
    "        \n",
    "        \n",
    "    return x, T"
   ]
  },
  {
   "cell_type": "markdown",
   "metadata": {},
   "source": [
    "Utilize as células abaixo para checar o resultado da sua função."
   ]
  },
  {
   "cell_type": "code",
   "execution_count": null,
   "metadata": {
    "collapsed": false
   },
   "outputs": [],
   "source": [
    "x, T = simula(tamanho=1, Nx=50, duração=100, Nt=500, difusividade=0.001)"
   ]
  },
  {
   "cell_type": "code",
   "execution_count": null,
   "metadata": {
    "collapsed": false
   },
   "outputs": [],
   "source": [
    "plt.figure()\n",
    "plt.plot(x, T[0], '--r')\n",
    "plt.plot(x, T[-1], '.-k')\n",
    "plt.xlabel('x (m)')\n",
    "plt.ylabel('T (C)')\n",
    "plt.ylim(0, 150)"
   ]
  },
  {
   "cell_type": "markdown",
   "metadata": {},
   "source": [
    "## Tarefa 4\n",
    "\n",
    "Rode a simulação para com os parâmetros `tamanho=1, Nx=50, duração=100, Nt=600, difusividade=0.001`. Faça um gráfico que mostre as curvas de temperatura para cada 100 passos no tempo. Coloque uma legenda na sua figura indicando qual curva representa qual passo no tempo."
   ]
  },
  {
   "cell_type": "code",
   "execution_count": null,
   "metadata": {
    "collapsed": true
   },
   "outputs": [],
   "source": []
  },
  {
   "cell_type": "code",
   "execution_count": null,
   "metadata": {
    "collapsed": false
   },
   "outputs": [],
   "source": []
  },
  {
   "cell_type": "markdown",
   "metadata": {},
   "source": [
    "## Bônus\n",
    "\n",
    "Gere uma animação em formato gif da evolução da temperatura na simulação da tarefa 4. \n",
    "\n",
    "* Cada imagem do gif deve ser um gráfico com o perfil de temperaturas por x. \n",
    "* O título de cada imagem deve ser o número da iteração.\n",
    "* Gere uma imagem a cada 10 iterações.\n",
    "* Não esqueça de fechar cada figura com `plt.close()` antes de criar uma nova."
   ]
  },
  {
   "cell_type": "code",
   "execution_count": null,
   "metadata": {
    "collapsed": true
   },
   "outputs": [],
   "source": []
  },
  {
   "cell_type": "code",
   "execution_count": null,
   "metadata": {
    "collapsed": true
   },
   "outputs": [],
   "source": []
  },
  {
   "cell_type": "code",
   "execution_count": null,
   "metadata": {
    "collapsed": true
   },
   "outputs": [],
   "source": []
  },
  {
   "cell_type": "markdown",
   "metadata": {},
   "source": [
    "Seu resultado deve ficar parecido com o seguinte:\n",
    "\n",
    "![`difusao.gif`](difusao.gif)"
   ]
  },
  {
   "cell_type": "markdown",
   "metadata": {},
   "source": [
    "**Course website**: https://github.com/mat-esp/about\n",
    "\n",
    "**Note**: This notebook is part of the course \"Matemática Especial I\" of the [Universidade do Estado do Rio de Janeiro](http://www.uerj.br/). All content can be freely used and adapted under the terms of the \n",
    "[Creative Commons Attribution 4.0 International License](http://creativecommons.org/licenses/by/4.0/).\n",
    "\n",
    "![Creative Commons License](https://i.creativecommons.org/l/by/4.0/88x31.png)"
   ]
  }
 ],
 "metadata": {
  "anaconda-cloud": {},
  "kernelspec": {
   "display_name": "Python [Root]",
   "language": "python",
   "name": "Python [Root]"
  },
  "language_info": {
   "codemirror_mode": {
    "name": "ipython",
    "version": 3
   },
   "file_extension": ".py",
   "mimetype": "text/x-python",
   "name": "python",
   "nbconvert_exporter": "python",
   "pygments_lexer": "ipython3",
   "version": "3.5.2"
  }
 },
 "nbformat": 4,
 "nbformat_minor": 0
}
